{
 "cells": [
  {
   "cell_type": "markdown",
   "metadata": {},
   "source": [
    "<div style=\"background-color:black;color:white;padding:20px\">\n",
    "\n",
    "<center><h3> LAA </h3></center>\n",
    "<center><h1> Projeto Bicóptero </h1></center>\n",
    "\n",
    "<center> <h1> Modelo dinâmico da bancada usando a formulação de Lagrange</h1></center>\n",
    "\n",
    "<h3> Por Gabriel Henrique Costa e Silva </h3> \n",
    "</div>"
   ]
  },
  {
   "cell_type": "markdown",
   "metadata": {},
   "source": [
    "<h2> Inicializando as bibliotecas </h2>"
   ]
  },
  {
   "cell_type": "code",
   "execution_count": 7,
   "metadata": {},
   "outputs": [],
   "source": [
    "import numpy as np\n",
    "import matplotlib.pyplot as plt\n",
    "from sympy import * \n",
    "from sympy import trigsimp, pi, cos, sin"
   ]
  },
  {
   "cell_type": "markdown",
   "metadata": {},
   "source": [
    "# Setup"
   ]
  },
  {
   "cell_type": "markdown",
   "metadata": {},
   "source": [
    "First, import the necessary functions from SymPy that will allow us to construct time varying vectors in the four reference frames."
   ]
  },
  {
   "cell_type": "code",
   "execution_count": 8,
   "metadata": {
    "collapsed": false,
    "jupyter": {
     "outputs_hidden": false
    }
   },
   "outputs": [],
   "source": [
    "from __future__ import print_function, division\n",
    "from sympy import symbols, simplify\n",
    "from sympy.physics.mechanics import dynamicsymbols, ReferenceFrame, Point"
   ]
  },
  {
   "cell_type": "markdown",
   "metadata": {},
   "source": [
    "SymPy has a rich printing system. Here we initialize printing so that all of the mathematical equations are rendered in standard mathematical notation."
   ]
  },
  {
   "cell_type": "code",
   "execution_count": 9,
   "metadata": {
    "collapsed": false,
    "jupyter": {
     "outputs_hidden": false
    }
   },
   "outputs": [],
   "source": [
    "from sympy.physics.vector import init_vprinting\n",
    "init_vprinting(use_latex='mathjax', pretty_print=False)"
   ]
  },
  {
   "cell_type": "markdown",
   "metadata": {},
   "source": [
    "The IPython notebook can display rich content. We will use the Image function to import some images for reference."
   ]
  },
  {
   "cell_type": "code",
   "execution_count": 10,
   "metadata": {
    "collapsed": false,
    "jupyter": {
     "outputs_hidden": false
    }
   },
   "outputs": [],
   "source": [
    "from IPython.display import Image"
   ]
  },
  {
   "cell_type": "markdown",
   "metadata": {},
   "source": [
    "# Reference Frames and Orientation"
   ]
  },
  {
   "cell_type": "markdown",
   "metadata": {},
   "source": [
    "Our first step is to define four reference frames, one each for the link 1, link 2, link 3 and link 4. These reference frames hold the information that defines how each frame is oriented relative to each other in addition to their relative angular velocites and angular accelerations. We start by creating four reference frames for each frame in the system."
   ]
  },
  {
   "cell_type": "code",
   "execution_count": 11,
   "metadata": {
    "collapsed": false,
    "jupyter": {
     "outputs_hidden": false
    }
   },
   "outputs": [],
   "source": [
    "inertial_frame = ReferenceFrame('I')"
   ]
  },
  {
   "cell_type": "code",
   "execution_count": 12,
   "metadata": {
    "collapsed": false,
    "jupyter": {
     "outputs_hidden": false
    }
   },
   "outputs": [],
   "source": [
    "link_1_frame = ReferenceFrame('L1')"
   ]
  },
  {
   "cell_type": "code",
   "execution_count": 13,
   "metadata": {
    "collapsed": false,
    "jupyter": {
     "outputs_hidden": false
    }
   },
   "outputs": [],
   "source": [
    "link_2_frame = ReferenceFrame('L2')"
   ]
  },
  {
   "cell_type": "code",
   "execution_count": 14,
   "metadata": {
    "collapsed": false,
    "jupyter": {
     "outputs_hidden": false
    }
   },
   "outputs": [],
   "source": [
    "link_3_frame = ReferenceFrame('L3')"
   ]
  },
  {
   "cell_type": "code",
   "execution_count": 15,
   "metadata": {
    "collapsed": false,
    "jupyter": {
     "outputs_hidden": false
    }
   },
   "outputs": [],
   "source": [
    "link_4_frame = ReferenceFrame('L4')"
   ]
  },
  {
   "cell_type": "markdown",
   "metadata": {},
   "source": [
    "Now we need to specify how the frames are oriented with respect to each other. To do this, we need to define the three generalized coordinates, $\\theta_1(t)$, $\\theta_2(t)$, $\\theta_3(t)$ and $\\theta_4(t)$, angles which are time varying quantities."
   ]
  },
  {
   "cell_type": "code",
   "execution_count": 16,
   "metadata": {
    "collapsed": false,
    "jupyter": {
     "outputs_hidden": false
    }
   },
   "outputs": [],
   "source": [
    "t = Symbol(\"t\")\n",
    "theta1 = Function(\"theta1\")(t)\n",
    "theta2 = Function(\"theta2\")(t)\n",
    "theta3 = Function(\"theta3\")(t)\n",
    "theta4 = Function(\"theta4\")(t)\n",
    "g = dynamicsymbols('g')\n",
    "fx, fy, fz = dynamicsymbols('f_x, f_y, f_z')\n",
    "taux, tauy, tauz = dynamicsymbols('tau_x, tau_y, tau_z')"
   ]
  },
  {
   "cell_type": "code",
   "execution_count": 17,
   "metadata": {
    "collapsed": false,
    "jupyter": {
     "outputs_hidden": false
    }
   },
   "outputs": [],
   "source": [
    "l1, l2, l3, l4 = dynamicsymbols('l1, l2, l3, l4')"
   ]
  },
  {
   "cell_type": "code",
   "execution_count": 18,
   "metadata": {
    "collapsed": false,
    "jupyter": {
     "outputs_hidden": false
    }
   },
   "outputs": [],
   "source": [
    "m1, m2, m3, m4 = dynamicsymbols('m1, m2, m3, m4')"
   ]
  },
  {
   "cell_type": "code",
   "execution_count": 19,
   "metadata": {
    "collapsed": false,
    "jupyter": {
     "outputs_hidden": false
    }
   },
   "outputs": [],
   "source": [
    "Ix1, Ix2, Ix3, Ix4 = dynamicsymbols('Ix1, Ix2, Ix3, Ix4')\n",
    "Iy1, Iy2, Iy3, Iy4 = dynamicsymbols('Iy1, Iy2, Iy3, Iy4')\n",
    "Iz1, Iz2, Iz3, Iz4 = dynamicsymbols('Iz1, Iz2, Iz3, Iz4')"
   ]
  },
  {
   "cell_type": "code",
   "execution_count": 20,
   "metadata": {},
   "outputs": [],
   "source": [
    "# Criando a função de criação da matriz de transformação homogênea\n",
    "\n",
    "# Matriz Rotação da Transformação\n",
    "def rt_M(T):\n",
    "    M = T[0:3,0:3]\n",
    "    return M"
   ]
  },
  {
   "cell_type": "code",
   "execution_count": 140,
   "metadata": {},
   "outputs": [],
   "source": [
    "# Matriz Rotação da Transformação\n",
    "def ch_M(T):\n",
    "    M=zeros(6)\n",
    "    M[0:3,0:3] = T[0:3,0:3]\n",
    "    M[3:6,3:6] = T[0:3,0:3]\n",
    "    return M"
   ]
  },
  {
   "cell_type": "code",
   "execution_count": 21,
   "metadata": {},
   "outputs": [],
   "source": [
    "# Matriz da massa e inércia\n",
    "def mI_M(m,Ix,Iy,Iz):\n",
    "    M = diag(m, m, m, Ix, Iy, Iz)\n",
    "    return M"
   ]
  },
  {
   "cell_type": "code",
   "execution_count": 22,
   "metadata": {},
   "outputs": [],
   "source": [
    "# Ponto de representação homogenea para dimensão 3\n",
    "def ph_2N(ph):\n",
    "    p = Matrix(ph[0:3])\n",
    "    return (p)"
   ]
  },
  {
   "cell_type": "code",
   "execution_count": 23,
   "metadata": {},
   "outputs": [],
   "source": [
    "# Definindo a matriz jacobiana\n",
    "def Jc(j1,j2,j3,j4):\n",
    "    J = zeros(6,1)\n",
    "    J = J.col_insert(0,j1)\n",
    "    J = J.col_insert(1,j2)\n",
    "    J = J.col_insert(2,j3)\n",
    "    J = J.col_insert(3,j4)\n",
    "    J.col_del(4)\n",
    "    return J"
   ]
  },
  {
   "cell_type": "code",
   "execution_count": 24,
   "metadata": {},
   "outputs": [],
   "source": [
    "# Definindo a nesima coluna da matriz jacobiana\n",
    "def Ji(m0,op,oi):\n",
    "    aux1 = m0*Matrix([0,0,1])\n",
    "    aux2 = aux1.cross(op-oi)\n",
    "    J = Matrix([aux2, aux1])\n",
    "    return J"
   ]
  },
  {
   "cell_type": "code",
   "execution_count": 25,
   "metadata": {},
   "outputs": [],
   "source": [
    "# Definindo a nesima coluna da matriz jacobiana\n",
    "def JpTi(m0,op,Ti):\n",
    "    # Calculate the zi= i-1Mi.k\n",
    "    aux1 = m0*Matrix([0,0,1])\n",
    "    oi = Matrix([Ti[0:3,3]])\n",
    "    # Calculate the zi= i-1Mi.k\n",
    "    aux2 = aux1.cross(op-oi)\n",
    "    \n",
    "    J = Matrix([aux2, aux1])\n",
    "    return J"
   ]
  },
  {
   "cell_type": "code",
   "execution_count": 26,
   "metadata": {},
   "outputs": [],
   "source": [
    "# Criando a função de criação da matriz de transformação homogênea\n",
    "# a partir dos parâmetros de Denavit-Hatemberg\n",
    "\n",
    "#cos = cos\n",
    "#sin = sin\n",
    "\n",
    "# Matriz Transformação Homogênea (Homogeous Transformation Matrix)\n",
    "# Using the Standard Denavit-Hatemberg Convention (not Modified)\n",
    "def ht_M(theta, d, alpha, a):\n",
    "    # theta e alpha em radianos\n",
    "    # d e a em metros\n",
    "    Rz = Matrix([[cos(theta), -sin(theta), 0, 0],\n",
    "                   [sin(theta), cos(theta), 0, 0],\n",
    "                   [0, 0, 1, 0],\n",
    "                   [0, 0, 0, 1]])\n",
    "    tz = Matrix([[1, 0, 0, 0],\n",
    "                   [0, 1, 0, 0],\n",
    "                   [0, 0, 1, a],\n",
    "                   [0, 0, 0, 1]])\n",
    "    ta = Matrix([[1, 0, 0, d],\n",
    "                   [0, 1, 0, 0],\n",
    "                   [0, 0, 1, 0],\n",
    "                   [0, 0, 0, 1]])\n",
    "    Rx = Matrix([[1, 0, 0, 0],\n",
    "                   [0, cos(alpha), -sin(alpha), 0],\n",
    "                   [0, sin(alpha), cos(alpha), 0],\n",
    "                   [0, 0, 0, 1]])\n",
    "    T = Rz*tz*ta*Rx\n",
    "    return T"
   ]
  },
  {
   "cell_type": "markdown",
   "metadata": {},
   "source": [
    "<h2> Declaração dos parâmetros de Denavit-Hatenberg </h2>\n",
    "<h2> Instanciação das matrizes de transformação homogêneas </h2>"
   ]
  },
  {
   "cell_type": "code",
   "execution_count": 27,
   "metadata": {},
   "outputs": [],
   "source": [
    "T1 = ht_M(theta1, 0, (pi)/2, 0)\n",
    "T2 = ht_M(theta2, l2, 0, 0)\n",
    "T3 = ht_M(theta3, l3, (-pi)/2, 0)\n",
    "T4 = ht_M(theta4, 0, 0, 0)"
   ]
  },
  {
   "cell_type": "code",
   "execution_count": 28,
   "metadata": {},
   "outputs": [
    {
     "data": {
      "text/latex": [
       "$\\displaystyle \\left[\\begin{matrix}\\operatorname{cos}\\left(\\theta_{1}\\right) & 0 & \\operatorname{sin}\\left(\\theta_{1}\\right) & 0\\\\\\operatorname{sin}\\left(\\theta_{1}\\right) & 0 & - \\operatorname{cos}\\left(\\theta_{1}\\right) & 0\\\\0 & 1 & 0 & 0\\\\0 & 0 & 0 & 1\\end{matrix}\\right]$"
      ],
      "text/plain": [
       "Matrix([\n",
       "[cos(theta1), 0,  sin(theta1), 0],\n",
       "[sin(theta1), 0, -cos(theta1), 0],\n",
       "[          0, 1,            0, 0],\n",
       "[          0, 0,            0, 1]])"
      ]
     },
     "execution_count": 28,
     "metadata": {},
     "output_type": "execute_result"
    }
   ],
   "source": [
    "T1"
   ]
  },
  {
   "cell_type": "code",
   "execution_count": 29,
   "metadata": {},
   "outputs": [
    {
     "data": {
      "text/latex": [
       "$\\displaystyle \\left[\\begin{matrix}\\operatorname{cos}\\left(\\theta_{2}\\right) & - \\operatorname{sin}\\left(\\theta_{2}\\right) & 0 & l_{2} \\operatorname{cos}\\left(\\theta_{2}\\right)\\\\\\operatorname{sin}\\left(\\theta_{2}\\right) & \\operatorname{cos}\\left(\\theta_{2}\\right) & 0 & l_{2} \\operatorname{sin}\\left(\\theta_{2}\\right)\\\\0 & 0 & 1 & 0\\\\0 & 0 & 0 & 1\\end{matrix}\\right]$"
      ],
      "text/plain": [
       "Matrix([\n",
       "[cos(theta2), -sin(theta2), 0, l2*cos(theta2)],\n",
       "[sin(theta2),  cos(theta2), 0, l2*sin(theta2)],\n",
       "[          0,            0, 1,              0],\n",
       "[          0,            0, 0,              1]])"
      ]
     },
     "execution_count": 29,
     "metadata": {},
     "output_type": "execute_result"
    }
   ],
   "source": [
    "T2"
   ]
  },
  {
   "cell_type": "code",
   "execution_count": 30,
   "metadata": {},
   "outputs": [
    {
     "data": {
      "text/latex": [
       "$\\displaystyle \\left[\\begin{matrix}\\operatorname{cos}\\left(\\theta_{3}\\right) & 0 & - \\operatorname{sin}\\left(\\theta_{3}\\right) & l_{3} \\operatorname{cos}\\left(\\theta_{3}\\right)\\\\\\operatorname{sin}\\left(\\theta_{3}\\right) & 0 & \\operatorname{cos}\\left(\\theta_{3}\\right) & l_{3} \\operatorname{sin}\\left(\\theta_{3}\\right)\\\\0 & -1 & 0 & 0\\\\0 & 0 & 0 & 1\\end{matrix}\\right]$"
      ],
      "text/plain": [
       "Matrix([\n",
       "[cos(theta3),  0, -sin(theta3), l3*cos(theta3)],\n",
       "[sin(theta3),  0,  cos(theta3), l3*sin(theta3)],\n",
       "[          0, -1,            0,              0],\n",
       "[          0,  0,            0,              1]])"
      ]
     },
     "execution_count": 30,
     "metadata": {},
     "output_type": "execute_result"
    }
   ],
   "source": [
    "T3"
   ]
  },
  {
   "cell_type": "code",
   "execution_count": 31,
   "metadata": {},
   "outputs": [
    {
     "data": {
      "text/latex": [
       "$\\displaystyle \\left[\\begin{matrix}\\operatorname{cos}\\left(\\theta_{4}\\right) & - \\operatorname{sin}\\left(\\theta_{4}\\right) & 0 & 0\\\\\\operatorname{sin}\\left(\\theta_{4}\\right) & \\operatorname{cos}\\left(\\theta_{4}\\right) & 0 & 0\\\\0 & 0 & 1 & 0\\\\0 & 0 & 0 & 1\\end{matrix}\\right]$"
      ],
      "text/plain": [
       "Matrix([\n",
       "[cos(theta4), -sin(theta4), 0, 0],\n",
       "[sin(theta4),  cos(theta4), 0, 0],\n",
       "[          0,            0, 1, 0],\n",
       "[          0,            0, 0, 1]])"
      ]
     },
     "execution_count": 31,
     "metadata": {},
     "output_type": "execute_result"
    }
   ],
   "source": [
    "T4"
   ]
  },
  {
   "cell_type": "markdown",
   "metadata": {},
   "source": [
    "<h3> Simplificação da matriz T3 a partir da relação entre $\\theta_3$ e $\\theta_2$</h3>"
   ]
  },
  {
   "cell_type": "code",
   "execution_count": 32,
   "metadata": {},
   "outputs": [
    {
     "data": {
      "text/latex": [
       "$\\displaystyle \\left[\\begin{matrix}\\operatorname{cos}\\left(\\theta_{3}\\right) & 0 & - \\operatorname{sin}\\left(\\theta_{3}\\right) & l_{3} \\operatorname{cos}\\left(\\theta_{3}\\right)\\\\\\operatorname{sin}\\left(\\theta_{3}\\right) & 0 & \\operatorname{cos}\\left(\\theta_{3}\\right) & l_{3} \\operatorname{sin}\\left(\\theta_{3}\\right)\\\\0 & -1 & 0 & 0\\\\0 & 0 & 0 & 1\\end{matrix}\\right]$"
      ],
      "text/plain": [
       "Matrix([\n",
       "[cos(theta3),  0, -sin(theta3), l3*cos(theta3)],\n",
       "[sin(theta3),  0,  cos(theta3), l3*sin(theta3)],\n",
       "[          0, -1,            0,              0],\n",
       "[          0,  0,            0,              1]])"
      ]
     },
     "execution_count": 32,
     "metadata": {},
     "output_type": "execute_result"
    }
   ],
   "source": [
    "T3"
   ]
  },
  {
   "cell_type": "code",
   "execution_count": 33,
   "metadata": {},
   "outputs": [],
   "source": [
    "T3=T3.subs(theta3,(-pi/2-theta2))"
   ]
  },
  {
   "cell_type": "code",
   "execution_count": 34,
   "metadata": {},
   "outputs": [
    {
     "data": {
      "text/latex": [
       "$\\displaystyle \\left[\\begin{matrix}- \\operatorname{sin}\\left(\\theta_{2}\\right) & 0 & \\operatorname{cos}\\left(\\theta_{2}\\right) & - l_{3} \\operatorname{sin}\\left(\\theta_{2}\\right)\\\\- \\operatorname{cos}\\left(\\theta_{2}\\right) & 0 & - \\operatorname{sin}\\left(\\theta_{2}\\right) & - l_{3} \\operatorname{cos}\\left(\\theta_{2}\\right)\\\\0 & -1 & 0 & 0\\\\0 & 0 & 0 & 1\\end{matrix}\\right]$"
      ],
      "text/plain": [
       "Matrix([\n",
       "[-sin(theta2),  0,  cos(theta2), -l3*sin(theta2)],\n",
       "[-cos(theta2),  0, -sin(theta2), -l3*cos(theta2)],\n",
       "[           0, -1,            0,               0],\n",
       "[           0,  0,            0,               1]])"
      ]
     },
     "execution_count": 34,
     "metadata": {},
     "output_type": "execute_result"
    }
   ],
   "source": [
    "T3"
   ]
  },
  {
   "cell_type": "markdown",
   "metadata": {},
   "source": [
    "<h2> Instanciação das matrizes de transformação homogêneas em realação ao referencial 0 </h2>"
   ]
  },
  {
   "cell_type": "code",
   "execution_count": 35,
   "metadata": {},
   "outputs": [],
   "source": [
    "T01=T1\n",
    "T02=T01*T2\n",
    "T02=trigsimp(T02)\n",
    "T03=T02*T3\n",
    "T03=trigsimp(T03)\n",
    "T04=T03*T4"
   ]
  },
  {
   "cell_type": "code",
   "execution_count": 36,
   "metadata": {},
   "outputs": [],
   "source": [
    "#(T02)\n",
    "#(T03)\n",
    "#(T04)"
   ]
  },
  {
   "cell_type": "markdown",
   "metadata": {},
   "source": [
    "<h2> Criação das matrizes Jacobianas</h2>"
   ]
  },
  {
   "cell_type": "code",
   "execution_count": 37,
   "metadata": {},
   "outputs": [],
   "source": [
    "# Criação dos pontos origens\n",
    "og1=ph_2N(T01*Matrix([0,0,0,1]))\n",
    "og2=ph_2N(T03*Matrix([-l3/2,0,0,1]))\n",
    "og3=ph_2N(T03*Matrix([0,0,0,1]))\n",
    "og4=ph_2N(T04*Matrix([0,0,0,1]))"
   ]
  },
  {
   "cell_type": "code",
   "execution_count": 39,
   "metadata": {},
   "outputs": [],
   "source": [
    "# Calculo do Jc[1] que é o jacobiano referente ponto centro de gravidade g1\n",
    "null=Matrix([0,0,0,0,0,0])\n",
    "J1 = Ji(eye(3),og1, Matrix([0,0,0])) \n",
    "Jc1 = Jc(J1,null,null,null)\n",
    "# Calculo do Jc[2] que é o jacobiano referente ponto centro de gravidade g2\n",
    "J1 = Ji(eye(3),og2, Matrix([0,0,0])) \n",
    "J2 = Ji(rt_M(T01),og2, Matrix([0,0,0])) \n",
    "Jc2 = trigsimp(Jc(J1,J2,null,null))\n",
    "# Calculo do Jc[3] que é o jacobiano referente ponto centro de gravidade g3\n",
    "J1 = Ji(eye(3),og3, Matrix([0,0,0])) \n",
    "J2 = Ji(rt_M(T01),og3, Matrix([0,0,0]))\n",
    "J3 = JpTi(rt_M(T02),og3,T02) \n",
    "Jc3 = trigsimp(Jc(J1,J2,J3,null))\n",
    "# Calculo do Jc[4] que é o jacobiano referente ponto centro de gravidade g4\n",
    "J1 = Ji(eye(3),og4, Matrix([0,0,0])) \n",
    "J2 = Ji(rt_M(T01),og4, Matrix([0,0,0]))\n",
    "J3 = JpTi(rt_M(T02),og4,T02) \n",
    "J4 = JpTi(rt_M(T03),og4,T03)\n",
    "Jc4 = trigsimp(Jc(J1,J2,J3,J4))"
   ]
  },
  {
   "cell_type": "code",
   "execution_count": 40,
   "metadata": {},
   "outputs": [
    {
     "data": {
      "text/latex": [
       "$\\displaystyle \\left[\\begin{matrix}0 & 0 & 0 & 0\\\\0 & 0 & 0 & 0\\\\0 & 0 & 0 & 0\\\\0 & 0 & 0 & 0\\\\0 & 0 & 0 & 0\\\\1 & 0 & 0 & 0\\end{matrix}\\right]$"
      ],
      "text/plain": [
       "Matrix([\n",
       "[0, 0, 0, 0],\n",
       "[0, 0, 0, 0],\n",
       "[0, 0, 0, 0],\n",
       "[0, 0, 0, 0],\n",
       "[0, 0, 0, 0],\n",
       "[1, 0, 0, 0]])"
      ]
     },
     "execution_count": 40,
     "metadata": {},
     "output_type": "execute_result"
    }
   ],
   "source": [
    "Jc1"
   ]
  },
  {
   "cell_type": "code",
   "execution_count": 41,
   "metadata": {},
   "outputs": [
    {
     "data": {
      "text/latex": [
       "$\\displaystyle \\left[\\begin{matrix}- l_{2} \\operatorname{sin}\\left(\\theta_{1}\\right) \\operatorname{cos}\\left(\\theta_{2}\\right) & - \\left(l_{2} \\operatorname{sin}\\left(\\theta_{2}\\right) - \\frac{l_{3}}{2}\\right) \\operatorname{cos}\\left(\\theta_{1}\\right) & 0 & 0\\\\l_{2} \\operatorname{cos}\\left(\\theta_{1}\\right) \\operatorname{cos}\\left(\\theta_{2}\\right) & - \\left(l_{2} \\operatorname{sin}\\left(\\theta_{2}\\right) - \\frac{l_{3}}{2}\\right) \\operatorname{sin}\\left(\\theta_{1}\\right) & 0 & 0\\\\0 & l_{2} \\operatorname{cos}\\left(\\theta_{2}\\right) & 0 & 0\\\\0 & \\operatorname{sin}\\left(\\theta_{1}\\right) & 0 & 0\\\\0 & - \\operatorname{cos}\\left(\\theta_{1}\\right) & 0 & 0\\\\1 & 0 & 0 & 0\\end{matrix}\\right]$"
      ],
      "text/plain": [
       "Matrix([\n",
       "[-l2*sin(theta1)*cos(theta2), -(l2*sin(theta2) - l3/2)*cos(theta1), 0, 0],\n",
       "[ l2*cos(theta1)*cos(theta2), -(l2*sin(theta2) - l3/2)*sin(theta1), 0, 0],\n",
       "[                          0,                       l2*cos(theta2), 0, 0],\n",
       "[                          0,                          sin(theta1), 0, 0],\n",
       "[                          0,                         -cos(theta1), 0, 0],\n",
       "[                          1,                                    0, 0, 0]])"
      ]
     },
     "execution_count": 41,
     "metadata": {},
     "output_type": "execute_result"
    }
   ],
   "source": [
    "Jc2"
   ]
  },
  {
   "cell_type": "code",
   "execution_count": 42,
   "metadata": {},
   "outputs": [
    {
     "data": {
      "text/latex": [
       "$\\displaystyle \\left[\\begin{matrix}- l_{2} \\operatorname{sin}\\left(\\theta_{1}\\right) \\operatorname{cos}\\left(\\theta_{2}\\right) & - \\left(l_{2} \\operatorname{sin}\\left(\\theta_{2}\\right) - l_{3}\\right) \\operatorname{cos}\\left(\\theta_{1}\\right) & l_{3} \\operatorname{cos}\\left(\\theta_{1}\\right) & 0\\\\l_{2} \\operatorname{cos}\\left(\\theta_{1}\\right) \\operatorname{cos}\\left(\\theta_{2}\\right) & - \\left(l_{2} \\operatorname{sin}\\left(\\theta_{2}\\right) - l_{3}\\right) \\operatorname{sin}\\left(\\theta_{1}\\right) & l_{3} \\operatorname{sin}\\left(\\theta_{1}\\right) & 0\\\\0 & l_{2} \\operatorname{cos}\\left(\\theta_{2}\\right) & 0 & 0\\\\0 & \\operatorname{sin}\\left(\\theta_{1}\\right) & \\operatorname{sin}\\left(\\theta_{1}\\right) & 0\\\\0 & - \\operatorname{cos}\\left(\\theta_{1}\\right) & - \\operatorname{cos}\\left(\\theta_{1}\\right) & 0\\\\1 & 0 & 0 & 0\\end{matrix}\\right]$"
      ],
      "text/plain": [
       "Matrix([\n",
       "[-l2*sin(theta1)*cos(theta2), -(l2*sin(theta2) - l3)*cos(theta1), l3*cos(theta1), 0],\n",
       "[ l2*cos(theta1)*cos(theta2), -(l2*sin(theta2) - l3)*sin(theta1), l3*sin(theta1), 0],\n",
       "[                          0,                     l2*cos(theta2),              0, 0],\n",
       "[                          0,                        sin(theta1),    sin(theta1), 0],\n",
       "[                          0,                       -cos(theta1),   -cos(theta1), 0],\n",
       "[                          1,                                  0,              0, 0]])"
      ]
     },
     "execution_count": 42,
     "metadata": {},
     "output_type": "execute_result"
    }
   ],
   "source": [
    "Jc3"
   ]
  },
  {
   "cell_type": "code",
   "execution_count": 43,
   "metadata": {},
   "outputs": [
    {
     "data": {
      "text/latex": [
       "$\\displaystyle \\left[\\begin{matrix}- l_{2} \\operatorname{sin}\\left(\\theta_{1}\\right) \\operatorname{cos}\\left(\\theta_{2}\\right) & - \\left(l_{2} \\operatorname{sin}\\left(\\theta_{2}\\right) - l_{3}\\right) \\operatorname{cos}\\left(\\theta_{1}\\right) & l_{3} \\operatorname{cos}\\left(\\theta_{1}\\right) & 0\\\\l_{2} \\operatorname{cos}\\left(\\theta_{1}\\right) \\operatorname{cos}\\left(\\theta_{2}\\right) & - \\left(l_{2} \\operatorname{sin}\\left(\\theta_{2}\\right) - l_{3}\\right) \\operatorname{sin}\\left(\\theta_{1}\\right) & l_{3} \\operatorname{sin}\\left(\\theta_{1}\\right) & 0\\\\0 & l_{2} \\operatorname{cos}\\left(\\theta_{2}\\right) & 0 & 0\\\\0 & \\operatorname{sin}\\left(\\theta_{1}\\right) & \\operatorname{sin}\\left(\\theta_{1}\\right) & \\operatorname{cos}\\left(\\theta_{1}\\right)\\\\0 & - \\operatorname{cos}\\left(\\theta_{1}\\right) & - \\operatorname{cos}\\left(\\theta_{1}\\right) & \\operatorname{sin}\\left(\\theta_{1}\\right)\\\\1 & 0 & 0 & 0\\end{matrix}\\right]$"
      ],
      "text/plain": [
       "Matrix([\n",
       "[-l2*sin(theta1)*cos(theta2), -(l2*sin(theta2) - l3)*cos(theta1), l3*cos(theta1),           0],\n",
       "[ l2*cos(theta1)*cos(theta2), -(l2*sin(theta2) - l3)*sin(theta1), l3*sin(theta1),           0],\n",
       "[                          0,                     l2*cos(theta2),              0,           0],\n",
       "[                          0,                        sin(theta1),    sin(theta1), cos(theta1)],\n",
       "[                          0,                       -cos(theta1),   -cos(theta1), sin(theta1)],\n",
       "[                          1,                                  0,              0,           0]])"
      ]
     },
     "execution_count": 43,
     "metadata": {},
     "output_type": "execute_result"
    }
   ],
   "source": [
    "Jc4"
   ]
  },
  {
   "cell_type": "code",
   "execution_count": 44,
   "metadata": {},
   "outputs": [],
   "source": [
    "# Calculo do J\n",
    "J = Jc(J1,J2,J3,J4)"
   ]
  },
  {
   "cell_type": "code",
   "execution_count": 45,
   "metadata": {},
   "outputs": [],
   "source": [
    "# Definindo a matriz jacobiana\n",
    "def Jc(j1,j2,j3,j4):\n",
    "    J = zeros(6,1)\n",
    "    J = J.col_insert(0,j1)\n",
    "    J = J.col_insert(1,j2)\n",
    "    J = J.col_insert(2,j3)\n",
    "    J = J.col_insert(3,j4)\n",
    "    J.col_del(4)\n",
    "    return J"
   ]
  },
  {
   "cell_type": "code",
   "execution_count": 46,
   "metadata": {},
   "outputs": [
    {
     "data": {
      "text/latex": [
       "$\\displaystyle \\left[\\begin{matrix}- l_{2} \\operatorname{sin}\\left(\\theta_{1}\\right) \\operatorname{cos}\\left(\\theta_{2}\\right) & - \\left(l_{2} \\operatorname{sin}\\left(\\theta_{2}\\right) - l_{3}\\right) \\operatorname{cos}\\left(\\theta_{1}\\right) & l_{3} \\operatorname{cos}\\left(\\theta_{1}\\right) & 0\\\\l_{2} \\operatorname{cos}\\left(\\theta_{1}\\right) \\operatorname{cos}\\left(\\theta_{2}\\right) & - \\left(l_{2} \\operatorname{sin}\\left(\\theta_{2}\\right) - l_{3}\\right) \\operatorname{sin}\\left(\\theta_{1}\\right) & l_{3} \\operatorname{sin}\\left(\\theta_{1}\\right) & 0\\\\0 & l_{2} \\operatorname{sin}^{2}\\left(\\theta_{1}\\right) \\operatorname{cos}\\left(\\theta_{2}\\right) + l_{2} \\operatorname{cos}^{2}\\left(\\theta_{1}\\right) \\operatorname{cos}\\left(\\theta_{2}\\right) & 0 & 0\\\\0 & \\operatorname{sin}\\left(\\theta_{1}\\right) & \\operatorname{sin}\\left(\\theta_{1}\\right) & \\operatorname{cos}\\left(\\theta_{1}\\right)\\\\0 & - \\operatorname{cos}\\left(\\theta_{1}\\right) & - \\operatorname{cos}\\left(\\theta_{1}\\right) & \\operatorname{sin}\\left(\\theta_{1}\\right)\\\\1 & 0 & 0 & 0\\end{matrix}\\right]$"
      ],
      "text/plain": [
       "Matrix([\n",
       "[-l2*sin(theta1)*cos(theta2),                            -(l2*sin(theta2) - l3)*cos(theta1), l3*cos(theta1),           0],\n",
       "[ l2*cos(theta1)*cos(theta2),                            -(l2*sin(theta2) - l3)*sin(theta1), l3*sin(theta1),           0],\n",
       "[                          0, l2*sin(theta1)**2*cos(theta2) + l2*cos(theta1)**2*cos(theta2),              0,           0],\n",
       "[                          0,                                                   sin(theta1),    sin(theta1), cos(theta1)],\n",
       "[                          0,                                                  -cos(theta1),   -cos(theta1), sin(theta1)],\n",
       "[                          1,                                                             0,              0,           0]])"
      ]
     },
     "execution_count": 46,
     "metadata": {},
     "output_type": "execute_result"
    }
   ],
   "source": [
    "J"
   ]
  },
  {
   "cell_type": "markdown",
   "metadata": {},
   "source": [
    "<h2> Criação das matrizes de Inércia</h2>"
   ]
  },
  {
   "cell_type": "code",
   "execution_count": 47,
   "metadata": {},
   "outputs": [
    {
     "data": {
      "text/latex": [
       "$\\displaystyle \\left[\\begin{matrix}m_{4} & 0 & 0 & 0 & 0 & 0\\\\0 & m_{4} & 0 & 0 & 0 & 0\\\\0 & 0 & m_{4} & 0 & 0 & 0\\\\0 & 0 & 0 & Ix_{4} & 0 & 0\\\\0 & 0 & 0 & 0 & Iy_{4} & 0\\\\0 & 0 & 0 & 0 & 0 & Iz_{4}\\end{matrix}\\right]$"
      ],
      "text/plain": [
       "Matrix([\n",
       "[m4,  0,  0,   0,   0,   0],\n",
       "[ 0, m4,  0,   0,   0,   0],\n",
       "[ 0,  0, m4,   0,   0,   0],\n",
       "[ 0,  0,  0, Ix4,   0,   0],\n",
       "[ 0,  0,  0,   0, Iy4,   0],\n",
       "[ 0,  0,  0,   0,   0, Iz4]])"
      ]
     },
     "execution_count": 47,
     "metadata": {},
     "output_type": "execute_result"
    }
   ],
   "source": [
    "mI_1 = mI_M(m1,Ix1,Iy1,Iz1)\n",
    "mI_2 = mI_M(m2,Ix2,Iy2,Iz2)\n",
    "mI_3 = mI_M(m3,Ix3,Iy3,Iz3)\n",
    "mI_4 = mI_M(m4,Ix4,Iy4,Iz4)\n",
    "mI_4"
   ]
  },
  {
   "cell_type": "code",
   "execution_count": 48,
   "metadata": {},
   "outputs": [],
   "source": [
    "# Build the Di matriz\n",
    "def Di_M(Jc_gi,mI):\n",
    "    M = (Jc_gi.T)*mI*Jc_gi;\n",
    "    return M"
   ]
  },
  {
   "cell_type": "code",
   "execution_count": 49,
   "metadata": {},
   "outputs": [],
   "source": [
    "\n",
    "D1 = Di_M(Jc1,mI_1)\n",
    "D2 = trigsimp(Di_M(Jc2,mI_2))\n",
    "D3 = trigsimp(Di_M(Jc3,mI_3))\n",
    "D4 = trigsimp(Di_M(Jc4,mI_4))\n",
    "Dtotal = D1+D2+D3+D4"
   ]
  },
  {
   "cell_type": "code",
   "execution_count": 50,
   "metadata": {},
   "outputs": [
    {
     "data": {
      "text/latex": [
       "$\\displaystyle \\left[\\begin{matrix}Iz_{1} + Iz_{2} + Iz_{3} + Iz_{4} + l^{2}_{2} m_{2} \\operatorname{cos}^{2}\\left(\\theta_{2}\\right) + l^{2}_{2} m_{3} \\operatorname{cos}^{2}\\left(\\theta_{2}\\right) + l^{2}_{2} m_{4} \\operatorname{cos}^{2}\\left(\\theta_{2}\\right) & 0 & 0 & 0\\\\0 & Ix_{2} \\operatorname{sin}^{2}\\left(\\theta_{1}\\right) + Ix_{3} \\operatorname{sin}^{2}\\left(\\theta_{1}\\right) + Ix_{4} \\operatorname{sin}^{2}\\left(\\theta_{1}\\right) - Iy_{2} \\operatorname{sin}^{2}\\left(\\theta_{1}\\right) + Iy_{2} - Iy_{3} \\operatorname{sin}^{2}\\left(\\theta_{1}\\right) + Iy_{3} - Iy_{4} \\operatorname{sin}^{2}\\left(\\theta_{1}\\right) + Iy_{4} + l^{2}_{2} m_{2} + l^{2}_{2} m_{3} + l^{2}_{2} m_{4} - l_{2} l_{3} m_{2} \\operatorname{sin}\\left(\\theta_{2}\\right) - 2 l_{2} l_{3} m_{3} \\operatorname{sin}\\left(\\theta_{2}\\right) - 2 l_{2} l_{3} m_{4} \\operatorname{sin}\\left(\\theta_{2}\\right) + \\frac{l^{2}_{3} m_{2}}{4} + l^{2}_{3} m_{3} + l^{2}_{3} m_{4} & Ix_{3} \\operatorname{sin}^{2}\\left(\\theta_{1}\\right) + Ix_{4} \\operatorname{sin}^{2}\\left(\\theta_{1}\\right) - Iy_{3} \\operatorname{sin}^{2}\\left(\\theta_{1}\\right) + Iy_{3} - Iy_{4} \\operatorname{sin}^{2}\\left(\\theta_{1}\\right) + Iy_{4} - l_{2} l_{3} m_{3} \\operatorname{sin}\\left(\\theta_{2}\\right) - l_{2} l_{3} m_{4} \\operatorname{sin}\\left(\\theta_{2}\\right) + l^{2}_{3} m_{3} + l^{2}_{3} m_{4} & \\frac{\\left(Ix_{4} - Iy_{4}\\right) \\operatorname{sin}\\left(2 \\theta_{1}\\right)}{2}\\\\0 & Ix_{3} \\operatorname{sin}^{2}\\left(\\theta_{1}\\right) + Ix_{4} \\operatorname{sin}^{2}\\left(\\theta_{1}\\right) - Iy_{3} \\operatorname{sin}^{2}\\left(\\theta_{1}\\right) + Iy_{3} - Iy_{4} \\operatorname{sin}^{2}\\left(\\theta_{1}\\right) + Iy_{4} - l_{2} l_{3} m_{3} \\operatorname{sin}\\left(\\theta_{2}\\right) - l_{2} l_{3} m_{4} \\operatorname{sin}\\left(\\theta_{2}\\right) + l^{2}_{3} m_{3} + l^{2}_{3} m_{4} & Ix_{3} \\operatorname{sin}^{2}\\left(\\theta_{1}\\right) + Ix_{4} \\operatorname{sin}^{2}\\left(\\theta_{1}\\right) - Iy_{3} \\operatorname{sin}^{2}\\left(\\theta_{1}\\right) + Iy_{3} - Iy_{4} \\operatorname{sin}^{2}\\left(\\theta_{1}\\right) + Iy_{4} + l^{2}_{3} m_{3} + l^{2}_{3} m_{4} & \\frac{\\left(Ix_{4} - Iy_{4}\\right) \\operatorname{sin}\\left(2 \\theta_{1}\\right)}{2}\\\\0 & \\frac{\\left(Ix_{4} - Iy_{4}\\right) \\operatorname{sin}\\left(2 \\theta_{1}\\right)}{2} & \\frac{\\left(Ix_{4} - Iy_{4}\\right) \\operatorname{sin}\\left(2 \\theta_{1}\\right)}{2} & Ix_{4} \\operatorname{cos}^{2}\\left(\\theta_{1}\\right) + Iy_{4} \\operatorname{sin}^{2}\\left(\\theta_{1}\\right)\\end{matrix}\\right]$"
      ],
      "text/plain": [
       "Matrix([\n",
       "[Iz1 + Iz2 + Iz3 + Iz4 + l2**2*m2*cos(theta2)**2 + l2**2*m3*cos(theta2)**2 + l2**2*m4*cos(theta2)**2,                                                                                                                                                                                                                                                                                          0,                                                                                                                                                                 0,                                       0],\n",
       "[                                                                                                  0, Ix2*sin(theta1)**2 + Ix3*sin(theta1)**2 + Ix4*sin(theta1)**2 - Iy2*sin(theta1)**2 + Iy2 - Iy3*sin(theta1)**2 + Iy3 - Iy4*sin(theta1)**2 + Iy4 + l2**2*m2 + l2**2*m3 + l2**2*m4 - l2*l3*m2*sin(theta2) - 2*l2*l3*m3*sin(theta2) - 2*l2*l3*m4*sin(theta2) + l3**2*m2/4 + l3**2*m3 + l3**2*m4, Ix3*sin(theta1)**2 + Ix4*sin(theta1)**2 - Iy3*sin(theta1)**2 + Iy3 - Iy4*sin(theta1)**2 + Iy4 - l2*l3*m3*sin(theta2) - l2*l3*m4*sin(theta2) + l3**2*m3 + l3**2*m4,             (Ix4 - Iy4)*sin(2*theta1)/2],\n",
       "[                                                                                                  0,                                                                                                                          Ix3*sin(theta1)**2 + Ix4*sin(theta1)**2 - Iy3*sin(theta1)**2 + Iy3 - Iy4*sin(theta1)**2 + Iy4 - l2*l3*m3*sin(theta2) - l2*l3*m4*sin(theta2) + l3**2*m3 + l3**2*m4,                                               Ix3*sin(theta1)**2 + Ix4*sin(theta1)**2 - Iy3*sin(theta1)**2 + Iy3 - Iy4*sin(theta1)**2 + Iy4 + l3**2*m3 + l3**2*m4,             (Ix4 - Iy4)*sin(2*theta1)/2],\n",
       "[                                                                                                  0,                                                                                                                                                                                                                                                                (Ix4 - Iy4)*sin(2*theta1)/2,                                                                                                                                       (Ix4 - Iy4)*sin(2*theta1)/2, Ix4*cos(theta1)**2 + Iy4*sin(theta1)**2]])"
      ]
     },
     "execution_count": 50,
     "metadata": {},
     "output_type": "execute_result"
    }
   ],
   "source": [
    "Dtotal"
   ]
  },
  {
   "cell_type": "markdown",
   "metadata": {},
   "source": [
    "<h2> Calculo da Energia Cinética </h2>"
   ]
  },
  {
   "cell_type": "code",
   "execution_count": 51,
   "metadata": {},
   "outputs": [],
   "source": [
    "q=Matrix([theta1,theta2,theta3,theta4])\n",
    "q_dot= diff(q,t)"
   ]
  },
  {
   "cell_type": "code",
   "execution_count": 52,
   "metadata": {},
   "outputs": [
    {
     "data": {
      "text/latex": [
       "$\\displaystyle \\left[\\begin{matrix}\\left(0.5 \\left(Ix_{4} \\operatorname{cos}^{2}\\left(\\theta_{1}\\right) + Iy_{4} \\operatorname{sin}^{2}\\left(\\theta_{1}\\right)\\right) \\dot{\\theta}_{4} + 0.25 \\left(Ix_{4} - Iy_{4}\\right) \\operatorname{sin}\\left(2 \\theta_{1}\\right) \\dot{\\theta}_{2} + 0.25 \\left(Ix_{4} - Iy_{4}\\right) \\operatorname{sin}\\left(2 \\theta_{1}\\right) \\dot{\\theta}_{3}\\right) \\dot{\\theta}_{4} + \\left(0.25 \\left(Ix_{4} - Iy_{4}\\right) \\operatorname{sin}\\left(2 \\theta_{1}\\right) \\dot{\\theta}_{4} + 0.5 \\left(Ix_{3} \\operatorname{sin}^{2}\\left(\\theta_{1}\\right) + Ix_{4} \\operatorname{sin}^{2}\\left(\\theta_{1}\\right) - Iy_{3} \\operatorname{sin}^{2}\\left(\\theta_{1}\\right) + Iy_{3} - Iy_{4} \\operatorname{sin}^{2}\\left(\\theta_{1}\\right) + Iy_{4} + l^{2}_{3} m_{3} + l^{2}_{3} m_{4}\\right) \\dot{\\theta}_{3} + 0.5 \\left(Ix_{3} \\operatorname{sin}^{2}\\left(\\theta_{1}\\right) + Ix_{4} \\operatorname{sin}^{2}\\left(\\theta_{1}\\right) - Iy_{3} \\operatorname{sin}^{2}\\left(\\theta_{1}\\right) + Iy_{3} - Iy_{4} \\operatorname{sin}^{2}\\left(\\theta_{1}\\right) + Iy_{4} - l_{2} l_{3} m_{3} \\operatorname{sin}\\left(\\theta_{2}\\right) - l_{2} l_{3} m_{4} \\operatorname{sin}\\left(\\theta_{2}\\right) + l^{2}_{3} m_{3} + l^{2}_{3} m_{4}\\right) \\dot{\\theta}_{2}\\right) \\dot{\\theta}_{3} + \\left(0.25 \\left(Ix_{4} - Iy_{4}\\right) \\operatorname{sin}\\left(2 \\theta_{1}\\right) \\dot{\\theta}_{4} + 0.5 \\left(Ix_{3} \\operatorname{sin}^{2}\\left(\\theta_{1}\\right) + Ix_{4} \\operatorname{sin}^{2}\\left(\\theta_{1}\\right) - Iy_{3} \\operatorname{sin}^{2}\\left(\\theta_{1}\\right) + Iy_{3} - Iy_{4} \\operatorname{sin}^{2}\\left(\\theta_{1}\\right) + Iy_{4} - l_{2} l_{3} m_{3} \\operatorname{sin}\\left(\\theta_{2}\\right) - l_{2} l_{3} m_{4} \\operatorname{sin}\\left(\\theta_{2}\\right) + l^{2}_{3} m_{3} + l^{2}_{3} m_{4}\\right) \\dot{\\theta}_{3} + 0.5 \\left(Ix_{2} \\operatorname{sin}^{2}\\left(\\theta_{1}\\right) + Ix_{3} \\operatorname{sin}^{2}\\left(\\theta_{1}\\right) + Ix_{4} \\operatorname{sin}^{2}\\left(\\theta_{1}\\right) - Iy_{2} \\operatorname{sin}^{2}\\left(\\theta_{1}\\right) + Iy_{2} - Iy_{3} \\operatorname{sin}^{2}\\left(\\theta_{1}\\right) + Iy_{3} - Iy_{4} \\operatorname{sin}^{2}\\left(\\theta_{1}\\right) + Iy_{4} + l^{2}_{2} m_{2} + l^{2}_{2} m_{3} + l^{2}_{2} m_{4} - l_{2} l_{3} m_{2} \\operatorname{sin}\\left(\\theta_{2}\\right) - 2 l_{2} l_{3} m_{3} \\operatorname{sin}\\left(\\theta_{2}\\right) - 2 l_{2} l_{3} m_{4} \\operatorname{sin}\\left(\\theta_{2}\\right) + \\frac{l^{2}_{3} m_{2}}{4} + l^{2}_{3} m_{3} + l^{2}_{3} m_{4}\\right) \\dot{\\theta}_{2}\\right) \\dot{\\theta}_{2} + 0.5 \\left(Iz_{1} + Iz_{2} + Iz_{3} + Iz_{4} + l^{2}_{2} m_{2} \\operatorname{cos}^{2}\\left(\\theta_{2}\\right) + l^{2}_{2} m_{3} \\operatorname{cos}^{2}\\left(\\theta_{2}\\right) + l^{2}_{2} m_{4} \\operatorname{cos}^{2}\\left(\\theta_{2}\\right)\\right) \\dot{\\theta}_{1}^{2}\\end{matrix}\\right]$"
      ],
      "text/plain": [
       "Matrix([[(0.5*(Ix4*cos(theta1)**2 + Iy4*sin(theta1)**2)*theta4' + 0.25*(Ix4 - Iy4)*sin(2*theta1)*theta2' + 0.25*(Ix4 - Iy4)*sin(2*theta1)*theta3')*theta4' + (0.25*(Ix4 - Iy4)*sin(2*theta1)*theta4' + 0.5*(Ix3*sin(theta1)**2 + Ix4*sin(theta1)**2 - Iy3*sin(theta1)**2 + Iy3 - Iy4*sin(theta1)**2 + Iy4 + l3**2*m3 + l3**2*m4)*theta3' + 0.5*(Ix3*sin(theta1)**2 + Ix4*sin(theta1)**2 - Iy3*sin(theta1)**2 + Iy3 - Iy4*sin(theta1)**2 + Iy4 - l2*l3*m3*sin(theta2) - l2*l3*m4*sin(theta2) + l3**2*m3 + l3**2*m4)*theta2')*theta3' + (0.25*(Ix4 - Iy4)*sin(2*theta1)*theta4' + 0.5*(Ix3*sin(theta1)**2 + Ix4*sin(theta1)**2 - Iy3*sin(theta1)**2 + Iy3 - Iy4*sin(theta1)**2 + Iy4 - l2*l3*m3*sin(theta2) - l2*l3*m4*sin(theta2) + l3**2*m3 + l3**2*m4)*theta3' + 0.5*(Ix2*sin(theta1)**2 + Ix3*sin(theta1)**2 + Ix4*sin(theta1)**2 - Iy2*sin(theta1)**2 + Iy2 - Iy3*sin(theta1)**2 + Iy3 - Iy4*sin(theta1)**2 + Iy4 + l2**2*m2 + l2**2*m3 + l2**2*m4 - l2*l3*m2*sin(theta2) - 2*l2*l3*m3*sin(theta2) - 2*l2*l3*m4*sin(theta2) + l3**2*m2/4 + l3**2*m3 + l3**2*m4)*theta2')*theta2' + 0.5*(Iz1 + Iz2 + Iz3 + Iz4 + l2**2*m2*cos(theta2)**2 + l2**2*m3*cos(theta2)**2 + l2**2*m4*cos(theta2)**2)*theta1'**2]])"
      ]
     },
     "execution_count": 52,
     "metadata": {},
     "output_type": "execute_result"
    }
   ],
   "source": [
    "K = 1/2* q_dot.T * Dtotal * q_dot\n",
    "K"
   ]
  },
  {
   "cell_type": "markdown",
   "metadata": {},
   "source": [
    "<h2> Calculo da Energia Potencial</h2>"
   ]
  },
  {
   "cell_type": "code",
   "execution_count": 53,
   "metadata": {},
   "outputs": [],
   "source": [
    "og1=T01*Matrix([0,0,0,1])\n",
    "og2=T03*Matrix([-l3/2,0,0,1])\n",
    "og3=T03*Matrix([0,0,0,1])\n",
    "og4=T04*Matrix([0,0,0,1])"
   ]
  },
  {
   "cell_type": "code",
   "execution_count": 54,
   "metadata": {},
   "outputs": [],
   "source": [
    "P1 = m1* g * Matrix([0,0,1,0]).T * og1\n",
    "P2 = m2* g * Matrix([0,0,1,0]).T * og2\n",
    "P3 = m3* g * Matrix([0,0,1,0]).T * og3\n",
    "P4 = m4* g * Matrix([0,0,1,0]).T * og4"
   ]
  },
  {
   "cell_type": "code",
   "execution_count": 55,
   "metadata": {},
   "outputs": [
    {
     "data": {
      "text/latex": [
       "$\\displaystyle \\left[\\begin{matrix}\\left(l_{2} \\operatorname{sin}\\left(\\theta_{2}\\right) - l_{3}\\right) g m_{3} + \\left(l_{2} \\operatorname{sin}\\left(\\theta_{2}\\right) - l_{3}\\right) g m_{4} + \\left(l_{2} \\operatorname{sin}\\left(\\theta_{2}\\right) - \\frac{l_{3}}{2}\\right) g m_{2}\\end{matrix}\\right]$"
      ],
      "text/plain": [
       "Matrix([[(l2*sin(theta2) - l3)*g*m3 + (l2*sin(theta2) - l3)*g*m4 + (l2*sin(theta2) - l3/2)*g*m2]])"
      ]
     },
     "execution_count": 55,
     "metadata": {},
     "output_type": "execute_result"
    }
   ],
   "source": [
    "Ptotal = P1+ P2 + P3 + P4\n",
    "Ptotal"
   ]
  },
  {
   "cell_type": "markdown",
   "metadata": {},
   "source": [
    "<h2> Calculo do Lagrangiano </h2>"
   ]
  },
  {
   "cell_type": "code",
   "execution_count": 56,
   "metadata": {},
   "outputs": [],
   "source": [
    "L= K-Ptotal"
   ]
  },
  {
   "cell_type": "markdown",
   "metadata": {},
   "source": [
    "<h2> Calculo dos termos da equaçoes de Euler Lagrange </h2>"
   ]
  },
  {
   "cell_type": "code",
   "execution_count": 57,
   "metadata": {},
   "outputs": [
    {
     "data": {
      "text/latex": [
       "$\\displaystyle \\left[\\begin{matrix}Iz_{1} + Iz_{2} + Iz_{3} + Iz_{4} + l^{2}_{2} m_{2} \\operatorname{cos}^{2}\\left(\\theta_{2}\\right) + l^{2}_{2} m_{3} \\operatorname{cos}^{2}\\left(\\theta_{2}\\right) + l^{2}_{2} m_{4} \\operatorname{cos}^{2}\\left(\\theta_{2}\\right) & 0 & 0 & 0\\\\0 & Ix_{2} \\operatorname{sin}^{2}\\left(\\theta_{1}\\right) + Ix_{3} \\operatorname{sin}^{2}\\left(\\theta_{1}\\right) + Ix_{4} \\operatorname{sin}^{2}\\left(\\theta_{1}\\right) - Iy_{2} \\operatorname{sin}^{2}\\left(\\theta_{1}\\right) + Iy_{2} - Iy_{3} \\operatorname{sin}^{2}\\left(\\theta_{1}\\right) + Iy_{3} - Iy_{4} \\operatorname{sin}^{2}\\left(\\theta_{1}\\right) + Iy_{4} + l^{2}_{2} m_{2} + l^{2}_{2} m_{3} + l^{2}_{2} m_{4} - l_{2} l_{3} m_{2} \\operatorname{sin}\\left(\\theta_{2}\\right) - 2 l_{2} l_{3} m_{3} \\operatorname{sin}\\left(\\theta_{2}\\right) - 2 l_{2} l_{3} m_{4} \\operatorname{sin}\\left(\\theta_{2}\\right) + \\frac{l^{2}_{3} m_{2}}{4} + l^{2}_{3} m_{3} + l^{2}_{3} m_{4} & Ix_{3} \\operatorname{sin}^{2}\\left(\\theta_{1}\\right) + Ix_{4} \\operatorname{sin}^{2}\\left(\\theta_{1}\\right) - Iy_{3} \\operatorname{sin}^{2}\\left(\\theta_{1}\\right) + Iy_{3} - Iy_{4} \\operatorname{sin}^{2}\\left(\\theta_{1}\\right) + Iy_{4} - l_{2} l_{3} m_{3} \\operatorname{sin}\\left(\\theta_{2}\\right) - l_{2} l_{3} m_{4} \\operatorname{sin}\\left(\\theta_{2}\\right) + l^{2}_{3} m_{3} + l^{2}_{3} m_{4} & \\frac{\\left(Ix_{4} - Iy_{4}\\right) \\operatorname{sin}\\left(2 \\theta_{1}\\right)}{2}\\\\0 & Ix_{3} \\operatorname{sin}^{2}\\left(\\theta_{1}\\right) + Ix_{4} \\operatorname{sin}^{2}\\left(\\theta_{1}\\right) - Iy_{3} \\operatorname{sin}^{2}\\left(\\theta_{1}\\right) + Iy_{3} - Iy_{4} \\operatorname{sin}^{2}\\left(\\theta_{1}\\right) + Iy_{4} - l_{2} l_{3} m_{3} \\operatorname{sin}\\left(\\theta_{2}\\right) - l_{2} l_{3} m_{4} \\operatorname{sin}\\left(\\theta_{2}\\right) + l^{2}_{3} m_{3} + l^{2}_{3} m_{4} & Ix_{3} \\operatorname{sin}^{2}\\left(\\theta_{1}\\right) + Ix_{4} \\operatorname{sin}^{2}\\left(\\theta_{1}\\right) - Iy_{3} \\operatorname{sin}^{2}\\left(\\theta_{1}\\right) + Iy_{3} - Iy_{4} \\operatorname{sin}^{2}\\left(\\theta_{1}\\right) + Iy_{4} + l^{2}_{3} m_{3} + l^{2}_{3} m_{4} & \\frac{\\left(Ix_{4} - Iy_{4}\\right) \\operatorname{sin}\\left(2 \\theta_{1}\\right)}{2}\\\\0 & \\frac{\\left(Ix_{4} - Iy_{4}\\right) \\operatorname{sin}\\left(2 \\theta_{1}\\right)}{2} & \\frac{\\left(Ix_{4} - Iy_{4}\\right) \\operatorname{sin}\\left(2 \\theta_{1}\\right)}{2} & Ix_{4} \\operatorname{cos}^{2}\\left(\\theta_{1}\\right) + Iy_{4} \\operatorname{sin}^{2}\\left(\\theta_{1}\\right)\\end{matrix}\\right]$"
      ],
      "text/plain": [
       "Matrix([\n",
       "[Iz1 + Iz2 + Iz3 + Iz4 + l2**2*m2*cos(theta2)**2 + l2**2*m3*cos(theta2)**2 + l2**2*m4*cos(theta2)**2,                                                                                                                                                                                                                                                                                          0,                                                                                                                                                                 0,                                       0],\n",
       "[                                                                                                  0, Ix2*sin(theta1)**2 + Ix3*sin(theta1)**2 + Ix4*sin(theta1)**2 - Iy2*sin(theta1)**2 + Iy2 - Iy3*sin(theta1)**2 + Iy3 - Iy4*sin(theta1)**2 + Iy4 + l2**2*m2 + l2**2*m3 + l2**2*m4 - l2*l3*m2*sin(theta2) - 2*l2*l3*m3*sin(theta2) - 2*l2*l3*m4*sin(theta2) + l3**2*m2/4 + l3**2*m3 + l3**2*m4, Ix3*sin(theta1)**2 + Ix4*sin(theta1)**2 - Iy3*sin(theta1)**2 + Iy3 - Iy4*sin(theta1)**2 + Iy4 - l2*l3*m3*sin(theta2) - l2*l3*m4*sin(theta2) + l3**2*m3 + l3**2*m4,             (Ix4 - Iy4)*sin(2*theta1)/2],\n",
       "[                                                                                                  0,                                                                                                                          Ix3*sin(theta1)**2 + Ix4*sin(theta1)**2 - Iy3*sin(theta1)**2 + Iy3 - Iy4*sin(theta1)**2 + Iy4 - l2*l3*m3*sin(theta2) - l2*l3*m4*sin(theta2) + l3**2*m3 + l3**2*m4,                                               Ix3*sin(theta1)**2 + Ix4*sin(theta1)**2 - Iy3*sin(theta1)**2 + Iy3 - Iy4*sin(theta1)**2 + Iy4 + l3**2*m3 + l3**2*m4,             (Ix4 - Iy4)*sin(2*theta1)/2],\n",
       "[                                                                                                  0,                                                                                                                                                                                                                                                                (Ix4 - Iy4)*sin(2*theta1)/2,                                                                                                                                       (Ix4 - Iy4)*sin(2*theta1)/2, Ix4*cos(theta1)**2 + Iy4*sin(theta1)**2]])"
      ]
     },
     "execution_count": 57,
     "metadata": {},
     "output_type": "execute_result"
    }
   ],
   "source": [
    "# Termo D(q) contribuicao inercial vale D_total ja calculado precedemente\n",
    "Dtotal"
   ]
  },
  {
   "cell_type": "code",
   "execution_count": 58,
   "metadata": {},
   "outputs": [
    {
     "data": {
      "text/latex": [
       "$\\displaystyle \\left[\\begin{matrix}\\left(- 2 l^{2}_{2} m_{2} \\operatorname{sin}\\left(\\theta_{2}\\right) \\operatorname{cos}\\left(\\theta_{2}\\right) - 2 l^{2}_{2} m_{3} \\operatorname{sin}\\left(\\theta_{2}\\right) \\operatorname{cos}\\left(\\theta_{2}\\right) - 2 l^{2}_{2} m_{4} \\operatorname{sin}\\left(\\theta_{2}\\right) \\operatorname{cos}\\left(\\theta_{2}\\right)\\right) \\dot{\\theta}_{2} & 0 & 0 & 0\\\\0 & \\left(- l_{2} l_{3} m_{2} \\operatorname{cos}\\left(\\theta_{2}\\right) - 2 l_{2} l_{3} m_{3} \\operatorname{cos}\\left(\\theta_{2}\\right) - 2 l_{2} l_{3} m_{4} \\operatorname{cos}\\left(\\theta_{2}\\right)\\right) \\dot{\\theta}_{2} & \\left(- l_{2} l_{3} m_{3} \\operatorname{cos}\\left(\\theta_{2}\\right) - l_{2} l_{3} m_{4} \\operatorname{cos}\\left(\\theta_{2}\\right)\\right) \\dot{\\theta}_{2} & 0\\\\0 & \\left(- l_{2} l_{3} m_{3} \\operatorname{cos}\\left(\\theta_{2}\\right) - l_{2} l_{3} m_{4} \\operatorname{cos}\\left(\\theta_{2}\\right)\\right) \\dot{\\theta}_{2} & 0 & 0\\\\0 & 0 & 0 & 0\\end{matrix}\\right]$"
      ],
      "text/plain": [
       "Matrix([\n",
       "[(-2*l2**2*m2*sin(theta2)*cos(theta2) - 2*l2**2*m3*sin(theta2)*cos(theta2) - 2*l2**2*m4*sin(theta2)*cos(theta2))*theta2',                                                                                 0,                                                      0, 0],\n",
       "[                                                                                                                      0, (-l2*l3*m2*cos(theta2) - 2*l2*l3*m3*cos(theta2) - 2*l2*l3*m4*cos(theta2))*theta2', (-l2*l3*m3*cos(theta2) - l2*l3*m4*cos(theta2))*theta2', 0],\n",
       "[                                                                                                                      0,                            (-l2*l3*m3*cos(theta2) - l2*l3*m4*cos(theta2))*theta2',                                                      0, 0],\n",
       "[                                                                                                                      0,                                                                                 0,                                                      0, 0]])"
      ]
     },
     "execution_count": 58,
     "metadata": {},
     "output_type": "execute_result"
    }
   ],
   "source": [
    "q[1]\n",
    "diff(Dtotal,q[1])*q_dot[1]"
   ]
  },
  {
   "cell_type": "code",
   "execution_count": 59,
   "metadata": {},
   "outputs": [],
   "source": [
    "def C_t(q,q_dot,D_total):\n",
    "    C_1 = zeros(4,4)\n",
    "    C_2 = zeros(4,1)\n",
    "\n",
    "    for n in range(4):\n",
    "        # Part 1 = dD(q)/dt = sum (partial D(q)/partial qi)q_dot\n",
    "        C_1= C_1 + (diff(D_total,q[n])*q_dot[n])\n",
    "\n",
    "    C_1 = C_1*q_dot\n",
    "\n",
    "    for n in range(4):\n",
    "        # Part 2 = column matrix (1/2)*(q_dot)^T.(partial D(q)/partial qi).q_do\n",
    "        C_2[n] = (1/2)*((q_dot.T)*diff(D_total,q[n])*q_dot)\n",
    "\n",
    "    C = C_1 - C_2;\n",
    "    return C"
   ]
  },
  {
   "cell_type": "code",
   "execution_count": 60,
   "metadata": {},
   "outputs": [
    {
     "data": {
      "text/latex": [
       "$\\displaystyle \\left[\\begin{matrix}- 0.5 \\left(\\left(- 2 Ix_{4} \\operatorname{sin}\\left(\\theta_{1}\\right) \\operatorname{cos}\\left(\\theta_{1}\\right) + 2 Iy_{4} \\operatorname{sin}\\left(\\theta_{1}\\right) \\operatorname{cos}\\left(\\theta_{1}\\right)\\right) \\dot{\\theta}_{4} + 2 \\left(\\frac{Ix_{4}}{2} - \\frac{Iy_{4}}{2}\\right) \\operatorname{cos}\\left(2 \\theta_{1}\\right) \\dot{\\theta}_{2} + 2 \\left(\\frac{Ix_{4}}{2} - \\frac{Iy_{4}}{2}\\right) \\operatorname{cos}\\left(2 \\theta_{1}\\right) \\dot{\\theta}_{3}\\right) \\dot{\\theta}_{4} - 0.5 \\left(2 \\left(\\frac{Ix_{4}}{2} - \\frac{Iy_{4}}{2}\\right) \\operatorname{cos}\\left(2 \\theta_{1}\\right) \\dot{\\theta}_{4} + \\left(2 Ix_{3} \\operatorname{sin}\\left(\\theta_{1}\\right) \\operatorname{cos}\\left(\\theta_{1}\\right) + 2 Ix_{4} \\operatorname{sin}\\left(\\theta_{1}\\right) \\operatorname{cos}\\left(\\theta_{1}\\right) - 2 Iy_{3} \\operatorname{sin}\\left(\\theta_{1}\\right) \\operatorname{cos}\\left(\\theta_{1}\\right) - 2 Iy_{4} \\operatorname{sin}\\left(\\theta_{1}\\right) \\operatorname{cos}\\left(\\theta_{1}\\right)\\right) \\dot{\\theta}_{2} + \\left(2 Ix_{3} \\operatorname{sin}\\left(\\theta_{1}\\right) \\operatorname{cos}\\left(\\theta_{1}\\right) + 2 Ix_{4} \\operatorname{sin}\\left(\\theta_{1}\\right) \\operatorname{cos}\\left(\\theta_{1}\\right) - 2 Iy_{3} \\operatorname{sin}\\left(\\theta_{1}\\right) \\operatorname{cos}\\left(\\theta_{1}\\right) - 2 Iy_{4} \\operatorname{sin}\\left(\\theta_{1}\\right) \\operatorname{cos}\\left(\\theta_{1}\\right)\\right) \\dot{\\theta}_{3}\\right) \\dot{\\theta}_{3} - 0.5 \\left(2 \\left(\\frac{Ix_{4}}{2} - \\frac{Iy_{4}}{2}\\right) \\operatorname{cos}\\left(2 \\theta_{1}\\right) \\dot{\\theta}_{4} + \\left(2 Ix_{3} \\operatorname{sin}\\left(\\theta_{1}\\right) \\operatorname{cos}\\left(\\theta_{1}\\right) + 2 Ix_{4} \\operatorname{sin}\\left(\\theta_{1}\\right) \\operatorname{cos}\\left(\\theta_{1}\\right) - 2 Iy_{3} \\operatorname{sin}\\left(\\theta_{1}\\right) \\operatorname{cos}\\left(\\theta_{1}\\right) - 2 Iy_{4} \\operatorname{sin}\\left(\\theta_{1}\\right) \\operatorname{cos}\\left(\\theta_{1}\\right)\\right) \\dot{\\theta}_{3} + \\left(2 Ix_{2} \\operatorname{sin}\\left(\\theta_{1}\\right) \\operatorname{cos}\\left(\\theta_{1}\\right) + 2 Ix_{3} \\operatorname{sin}\\left(\\theta_{1}\\right) \\operatorname{cos}\\left(\\theta_{1}\\right) + 2 Ix_{4} \\operatorname{sin}\\left(\\theta_{1}\\right) \\operatorname{cos}\\left(\\theta_{1}\\right) - 2 Iy_{2} \\operatorname{sin}\\left(\\theta_{1}\\right) \\operatorname{cos}\\left(\\theta_{1}\\right) - 2 Iy_{3} \\operatorname{sin}\\left(\\theta_{1}\\right) \\operatorname{cos}\\left(\\theta_{1}\\right) - 2 Iy_{4} \\operatorname{sin}\\left(\\theta_{1}\\right) \\operatorname{cos}\\left(\\theta_{1}\\right)\\right) \\dot{\\theta}_{2}\\right) \\dot{\\theta}_{2} + \\left(- 2 l^{2}_{2} m_{2} \\operatorname{sin}\\left(\\theta_{2}\\right) \\operatorname{cos}\\left(\\theta_{2}\\right) - 2 l^{2}_{2} m_{3} \\operatorname{sin}\\left(\\theta_{2}\\right) \\operatorname{cos}\\left(\\theta_{2}\\right) - 2 l^{2}_{2} m_{4} \\operatorname{sin}\\left(\\theta_{2}\\right) \\operatorname{cos}\\left(\\theta_{2}\\right)\\right) \\dot{\\theta}_{1} \\dot{\\theta}_{2}\\\\\\left(\\left(- l_{2} l_{3} m_{3} \\operatorname{cos}\\left(\\theta_{2}\\right) - l_{2} l_{3} m_{4} \\operatorname{cos}\\left(\\theta_{2}\\right)\\right) \\dot{\\theta}_{2} + \\left(2 Ix_{3} \\operatorname{sin}\\left(\\theta_{1}\\right) \\operatorname{cos}\\left(\\theta_{1}\\right) + 2 Ix_{4} \\operatorname{sin}\\left(\\theta_{1}\\right) \\operatorname{cos}\\left(\\theta_{1}\\right) - 2 Iy_{3} \\operatorname{sin}\\left(\\theta_{1}\\right) \\operatorname{cos}\\left(\\theta_{1}\\right) - 2 Iy_{4} \\operatorname{sin}\\left(\\theta_{1}\\right) \\operatorname{cos}\\left(\\theta_{1}\\right)\\right) \\dot{\\theta}_{1}\\right) \\dot{\\theta}_{3} - 0.5 \\left(\\left(- l_{2} l_{3} m_{3} \\operatorname{cos}\\left(\\theta_{2}\\right) - l_{2} l_{3} m_{4} \\operatorname{cos}\\left(\\theta_{2}\\right)\\right) \\dot{\\theta}_{3} + \\left(- l_{2} l_{3} m_{2} \\operatorname{cos}\\left(\\theta_{2}\\right) - 2 l_{2} l_{3} m_{3} \\operatorname{cos}\\left(\\theta_{2}\\right) - 2 l_{2} l_{3} m_{4} \\operatorname{cos}\\left(\\theta_{2}\\right)\\right) \\dot{\\theta}_{2}\\right) \\dot{\\theta}_{2} + \\left(\\left(- l_{2} l_{3} m_{2} \\operatorname{cos}\\left(\\theta_{2}\\right) - 2 l_{2} l_{3} m_{3} \\operatorname{cos}\\left(\\theta_{2}\\right) - 2 l_{2} l_{3} m_{4} \\operatorname{cos}\\left(\\theta_{2}\\right)\\right) \\dot{\\theta}_{2} + \\left(2 Ix_{2} \\operatorname{sin}\\left(\\theta_{1}\\right) \\operatorname{cos}\\left(\\theta_{1}\\right) + 2 Ix_{3} \\operatorname{sin}\\left(\\theta_{1}\\right) \\operatorname{cos}\\left(\\theta_{1}\\right) + 2 Ix_{4} \\operatorname{sin}\\left(\\theta_{1}\\right) \\operatorname{cos}\\left(\\theta_{1}\\right) - 2 Iy_{2} \\operatorname{sin}\\left(\\theta_{1}\\right) \\operatorname{cos}\\left(\\theta_{1}\\right) - 2 Iy_{3} \\operatorname{sin}\\left(\\theta_{1}\\right) \\operatorname{cos}\\left(\\theta_{1}\\right) - 2 Iy_{4} \\operatorname{sin}\\left(\\theta_{1}\\right) \\operatorname{cos}\\left(\\theta_{1}\\right)\\right) \\dot{\\theta}_{1}\\right) \\dot{\\theta}_{2} - 0.5 \\left(- l_{2} l_{3} m_{3} \\operatorname{cos}\\left(\\theta_{2}\\right) - l_{2} l_{3} m_{4} \\operatorname{cos}\\left(\\theta_{2}\\right)\\right) \\dot{\\theta}_{2} \\dot{\\theta}_{3} + 2 \\left(\\frac{Ix_{4}}{2} - \\frac{Iy_{4}}{2}\\right) \\operatorname{cos}\\left(2 \\theta_{1}\\right) \\dot{\\theta}_{1} \\dot{\\theta}_{4} - 0.5 \\left(- 2 l^{2}_{2} m_{2} \\operatorname{sin}\\left(\\theta_{2}\\right) \\operatorname{cos}\\left(\\theta_{2}\\right) - 2 l^{2}_{2} m_{3} \\operatorname{sin}\\left(\\theta_{2}\\right) \\operatorname{cos}\\left(\\theta_{2}\\right) - 2 l^{2}_{2} m_{4} \\operatorname{sin}\\left(\\theta_{2}\\right) \\operatorname{cos}\\left(\\theta_{2}\\right)\\right) \\dot{\\theta}_{1}^{2}\\\\\\left(\\left(- l_{2} l_{3} m_{3} \\operatorname{cos}\\left(\\theta_{2}\\right) - l_{2} l_{3} m_{4} \\operatorname{cos}\\left(\\theta_{2}\\right)\\right) \\dot{\\theta}_{2} + \\left(2 Ix_{3} \\operatorname{sin}\\left(\\theta_{1}\\right) \\operatorname{cos}\\left(\\theta_{1}\\right) + 2 Ix_{4} \\operatorname{sin}\\left(\\theta_{1}\\right) \\operatorname{cos}\\left(\\theta_{1}\\right) - 2 Iy_{3} \\operatorname{sin}\\left(\\theta_{1}\\right) \\operatorname{cos}\\left(\\theta_{1}\\right) - 2 Iy_{4} \\operatorname{sin}\\left(\\theta_{1}\\right) \\operatorname{cos}\\left(\\theta_{1}\\right)\\right) \\dot{\\theta}_{1}\\right) \\dot{\\theta}_{2} + 2 \\left(\\frac{Ix_{4}}{2} - \\frac{Iy_{4}}{2}\\right) \\operatorname{cos}\\left(2 \\theta_{1}\\right) \\dot{\\theta}_{1} \\dot{\\theta}_{4} + \\left(2 Ix_{3} \\operatorname{sin}\\left(\\theta_{1}\\right) \\operatorname{cos}\\left(\\theta_{1}\\right) + 2 Ix_{4} \\operatorname{sin}\\left(\\theta_{1}\\right) \\operatorname{cos}\\left(\\theta_{1}\\right) - 2 Iy_{3} \\operatorname{sin}\\left(\\theta_{1}\\right) \\operatorname{cos}\\left(\\theta_{1}\\right) - 2 Iy_{4} \\operatorname{sin}\\left(\\theta_{1}\\right) \\operatorname{cos}\\left(\\theta_{1}\\right)\\right) \\dot{\\theta}_{1} \\dot{\\theta}_{3}\\\\\\left(- 2 Ix_{4} \\operatorname{sin}\\left(\\theta_{1}\\right) \\operatorname{cos}\\left(\\theta_{1}\\right) + 2 Iy_{4} \\operatorname{sin}\\left(\\theta_{1}\\right) \\operatorname{cos}\\left(\\theta_{1}\\right)\\right) \\dot{\\theta}_{1} \\dot{\\theta}_{4} + 2 \\left(\\frac{Ix_{4}}{2} - \\frac{Iy_{4}}{2}\\right) \\operatorname{cos}\\left(2 \\theta_{1}\\right) \\dot{\\theta}_{1} \\dot{\\theta}_{2} + 2 \\left(\\frac{Ix_{4}}{2} - \\frac{Iy_{4}}{2}\\right) \\operatorname{cos}\\left(2 \\theta_{1}\\right) \\dot{\\theta}_{1} \\dot{\\theta}_{3}\\end{matrix}\\right]$"
      ],
      "text/plain": [
       "Matrix([\n",
       "[-0.5*((-2*Ix4*sin(theta1)*cos(theta1) + 2*Iy4*sin(theta1)*cos(theta1))*theta4' + 2*(Ix4/2 - Iy4/2)*cos(2*theta1)*theta2' + 2*(Ix4/2 - Iy4/2)*cos(2*theta1)*theta3')*theta4' - 0.5*(2*(Ix4/2 - Iy4/2)*cos(2*theta1)*theta4' + (2*Ix3*sin(theta1)*cos(theta1) + 2*Ix4*sin(theta1)*cos(theta1) - 2*Iy3*sin(theta1)*cos(theta1) - 2*Iy4*sin(theta1)*cos(theta1))*theta2' + (2*Ix3*sin(theta1)*cos(theta1) + 2*Ix4*sin(theta1)*cos(theta1) - 2*Iy3*sin(theta1)*cos(theta1) - 2*Iy4*sin(theta1)*cos(theta1))*theta3')*theta3' - 0.5*(2*(Ix4/2 - Iy4/2)*cos(2*theta1)*theta4' + (2*Ix3*sin(theta1)*cos(theta1) + 2*Ix4*sin(theta1)*cos(theta1) - 2*Iy3*sin(theta1)*cos(theta1) - 2*Iy4*sin(theta1)*cos(theta1))*theta3' + (2*Ix2*sin(theta1)*cos(theta1) + 2*Ix3*sin(theta1)*cos(theta1) + 2*Ix4*sin(theta1)*cos(theta1) - 2*Iy2*sin(theta1)*cos(theta1) - 2*Iy3*sin(theta1)*cos(theta1) - 2*Iy4*sin(theta1)*cos(theta1))*theta2')*theta2' + (-2*l2**2*m2*sin(theta2)*cos(theta2) - 2*l2**2*m3*sin(theta2)*cos(theta2) - 2*l2**2*m4*sin(theta2)*cos(theta2))*theta1'*theta2'],\n",
       "[                                                                                                                                ((-l2*l3*m3*cos(theta2) - l2*l3*m4*cos(theta2))*theta2' + (2*Ix3*sin(theta1)*cos(theta1) + 2*Ix4*sin(theta1)*cos(theta1) - 2*Iy3*sin(theta1)*cos(theta1) - 2*Iy4*sin(theta1)*cos(theta1))*theta1')*theta3' - 0.5*((-l2*l3*m3*cos(theta2) - l2*l3*m4*cos(theta2))*theta3' + (-l2*l3*m2*cos(theta2) - 2*l2*l3*m3*cos(theta2) - 2*l2*l3*m4*cos(theta2))*theta2')*theta2' + ((-l2*l3*m2*cos(theta2) - 2*l2*l3*m3*cos(theta2) - 2*l2*l3*m4*cos(theta2))*theta2' + (2*Ix2*sin(theta1)*cos(theta1) + 2*Ix3*sin(theta1)*cos(theta1) + 2*Ix4*sin(theta1)*cos(theta1) - 2*Iy2*sin(theta1)*cos(theta1) - 2*Iy3*sin(theta1)*cos(theta1) - 2*Iy4*sin(theta1)*cos(theta1))*theta1')*theta2' - 0.5*(-l2*l3*m3*cos(theta2) - l2*l3*m4*cos(theta2))*theta2'*theta3' + 2*(Ix4/2 - Iy4/2)*cos(2*theta1)*theta1'*theta4' - 0.5*(-2*l2**2*m2*sin(theta2)*cos(theta2) - 2*l2**2*m3*sin(theta2)*cos(theta2) - 2*l2**2*m4*sin(theta2)*cos(theta2))*theta1'**2],\n",
       "[                                                                                                                                                                                                                                                                                                                                                                                                                                                                                                                                                                                                                                                       ((-l2*l3*m3*cos(theta2) - l2*l3*m4*cos(theta2))*theta2' + (2*Ix3*sin(theta1)*cos(theta1) + 2*Ix4*sin(theta1)*cos(theta1) - 2*Iy3*sin(theta1)*cos(theta1) - 2*Iy4*sin(theta1)*cos(theta1))*theta1')*theta2' + 2*(Ix4/2 - Iy4/2)*cos(2*theta1)*theta1'*theta4' + (2*Ix3*sin(theta1)*cos(theta1) + 2*Ix4*sin(theta1)*cos(theta1) - 2*Iy3*sin(theta1)*cos(theta1) - 2*Iy4*sin(theta1)*cos(theta1))*theta1'*theta3'],\n",
       "[                                                                                                                                                                                                                                                                                                                                                                                                                                                                                                                                                                                                                                                                                                                                                                                                                                                                                 (-2*Ix4*sin(theta1)*cos(theta1) + 2*Iy4*sin(theta1)*cos(theta1))*theta1'*theta4' + 2*(Ix4/2 - Iy4/2)*cos(2*theta1)*theta1'*theta2' + 2*(Ix4/2 - Iy4/2)*cos(2*theta1)*theta1'*theta3']])"
      ]
     },
     "execution_count": 60,
     "metadata": {},
     "output_type": "execute_result"
    }
   ],
   "source": [
    "# Termo C(q,qdot) contribuicao inercial\n",
    "\n",
    "Ctotal = C_t(q, q_dot, Dtotal)\n",
    "Ctotal"
   ]
  },
  {
   "cell_type": "code",
   "execution_count": 61,
   "metadata": {},
   "outputs": [],
   "source": [
    "def G_t(q,P_total):\n",
    "    G = zeros(4,1)\n",
    "    for n in range(4):\n",
    "        G[n] = diff(P_total,q[n])\n",
    "    return G"
   ]
  },
  {
   "cell_type": "code",
   "execution_count": 62,
   "metadata": {},
   "outputs": [
    {
     "data": {
      "text/latex": [
       "$\\displaystyle \\left[\\begin{matrix}0\\\\g l_{2} m_{2} \\operatorname{cos}\\left(\\theta_{2}\\right) + g l_{2} m_{3} \\operatorname{cos}\\left(\\theta_{2}\\right) + g l_{2} m_{4} \\operatorname{cos}\\left(\\theta_{2}\\right)\\\\0\\\\0\\end{matrix}\\right]$"
      ],
      "text/plain": [
       "Matrix([\n",
       "[                                                              0],\n",
       "[g*l2*m2*cos(theta2) + g*l2*m3*cos(theta2) + g*l2*m4*cos(theta2)],\n",
       "[                                                              0],\n",
       "[                                                              0]])"
      ]
     },
     "execution_count": 62,
     "metadata": {},
     "output_type": "execute_result"
    }
   ],
   "source": [
    "# Termo G(q)  vale as contribuicoes da gravidade \n",
    "Gtotal = G_t(q,Ptotal)\n",
    "Gtotal"
   ]
  },
  {
   "cell_type": "markdown",
   "metadata": {},
   "source": [
    "Calculo do esforcos de interaçao Gamma_e  \n",
    "\n",
    "\n",
    "\n",
    "Representar os tensores cinematicos em relacao a P\n",
    "1-Identificar o vetores OiP sendo P o ponto do referencial bicoptero\n",
    "2-Multiplicar por i-1Mi (matriz de rotacao) \n",
    "3-fazer o produto vetorial entre Zi x (i-1Mi * OiP)\n",
    "4-Montar o tensor\n"
   ]
  },
  {
   "cell_type": "code",
   "execution_count": 63,
   "metadata": {},
   "outputs": [],
   "source": [
    "def v_i(M0,Tp,Ti):\n",
    "    # Calculate the zi= i-1Mi.k\n",
    "    aux1 = M0*Matrix([0,0,1])\n",
    "\n",
    "    Op = Tp[0:3,3]\n",
    "    Oi = Ti[0:3,3]\n",
    "\n",
    "    # Cross Product  zi x (Op-Oi)\n",
    "    aux2 = (aux1.cross(Op-Oi))\n",
    "    \n",
    "    # Building cinematic tensor for pivot joints\n",
    "    \n",
    "    v = Matrix([aux2, aux1])\n",
    "    return v "
   ]
  },
  {
   "cell_type": "code",
   "execution_count": 64,
   "metadata": {},
   "outputs": [],
   "source": [
    "#Matriz rotacional 0^M_0\n",
    "# Calculate the zi= i-1Mi.k \n",
    "J1 = v_i(eye(3), T04, zeros(4,4))\n",
    "\n",
    "J2 = trigsimp(v_i(rt_M(T01), T04, T01))\n",
    "\n",
    "J3 = v_i(rt_M(T02),T04,T02)\n",
    "\n",
    "J4 = v_i(rt_M(T03),T04,T03)\n",
    "\n",
    "JcP4 = Jc(J1,J2,J3,J4)\n",
    "\n",
    "v = (JcP4*Matrix([0,1,-1,0])).subs({theta1: 0, theta2:0,theta4: 0})\n",
    "#(JcP4.T)\n",
    "#v\n",
    "#(JcP4.T)*Matrix([-fx,0,0,0,0,0])\n"
   ]
  },
  {
   "cell_type": "code",
   "execution_count": 65,
   "metadata": {},
   "outputs": [
    {
     "data": {
      "text/latex": [
       "$\\displaystyle \\left[\\begin{matrix}- l_{2} \\operatorname{sin}\\left(\\theta_{1}\\right) \\operatorname{cos}\\left(\\theta_{2}\\right) & - \\left(l_{2} \\operatorname{sin}\\left(\\theta_{2}\\right) - l_{3}\\right) \\operatorname{cos}\\left(\\theta_{1}\\right) & l_{3} \\operatorname{cos}\\left(\\theta_{1}\\right) & 0\\\\l_{2} \\operatorname{cos}\\left(\\theta_{1}\\right) \\operatorname{cos}\\left(\\theta_{2}\\right) & - \\left(l_{2} \\operatorname{sin}\\left(\\theta_{2}\\right) - l_{3}\\right) \\operatorname{sin}\\left(\\theta_{1}\\right) & l_{3} \\operatorname{sin}\\left(\\theta_{1}\\right) & 0\\\\0 & l_{2} \\operatorname{cos}\\left(\\theta_{2}\\right) & 0 & 0\\\\0 & \\operatorname{sin}\\left(\\theta_{1}\\right) & \\operatorname{sin}\\left(\\theta_{1}\\right) & \\operatorname{cos}\\left(\\theta_{1}\\right)\\\\0 & - \\operatorname{cos}\\left(\\theta_{1}\\right) & - \\operatorname{cos}\\left(\\theta_{1}\\right) & \\operatorname{sin}\\left(\\theta_{1}\\right)\\\\1 & 0 & 0 & 0\\end{matrix}\\right]$"
      ],
      "text/plain": [
       "Matrix([\n",
       "[-l2*sin(theta1)*cos(theta2), -(l2*sin(theta2) - l3)*cos(theta1), l3*cos(theta1),           0],\n",
       "[ l2*cos(theta1)*cos(theta2), -(l2*sin(theta2) - l3)*sin(theta1), l3*sin(theta1),           0],\n",
       "[                          0,                     l2*cos(theta2),              0,           0],\n",
       "[                          0,                        sin(theta1),    sin(theta1), cos(theta1)],\n",
       "[                          0,                       -cos(theta1),   -cos(theta1), sin(theta1)],\n",
       "[                          1,                                  0,              0,           0]])"
      ]
     },
     "execution_count": 65,
     "metadata": {},
     "output_type": "execute_result"
    }
   ],
   "source": [
    "JcP4"
   ]
  },
  {
   "cell_type": "markdown",
   "metadata": {},
   "source": [
    "Calcular o Gamma_e a partir da matriz Jacobiana cinematica em relacao a P"
   ]
  },
  {
   "cell_type": "code",
   "execution_count": 66,
   "metadata": {},
   "outputs": [
    {
     "data": {
      "text/latex": [
       "$\\displaystyle \\left[\\begin{matrix}f_{y} l_{2} + \\tau_{z}\\\\f_{x} l_{3}\\\\f_{x} l_{3}\\\\0\\end{matrix}\\right]$"
      ],
      "text/plain": [
       "Matrix([\n",
       "[f_y*l2 + tau_z],\n",
       "[        f_x*l3],\n",
       "[        f_x*l3],\n",
       "[             0]])"
      ]
     },
     "execution_count": 66,
     "metadata": {},
     "output_type": "execute_result"
    }
   ],
   "source": [
    "#Forca expressa no referencial 0 (Não é o que queremos)\n",
    "\n",
    "#tau_e:=<<f[x],f[y],f[z],tau[x],tau[y],tau[z]>>:\n",
    "tau_e = Matrix([fx,fy,0,0,0,tauz])\n",
    "Gamma_e = JcP4.T*(tau_e)\n",
    "Gamma_e.subs({theta2:0,theta1:0,theta4:0})\n"
   ]
  },
  {
   "cell_type": "code",
   "execution_count": 121,
   "metadata": {},
   "outputs": [],
   "source": [
    "# Para entao representar o vetor esforco em outro referencial é necessario as seguintes formulacoes\n",
    "\n",
    "# Para entender indica-se o exemplo da maçã do link https://modernrobotics.northwestern.edu/nu-gm-book-resource/3-4-wrenches/#department\n",
    "#Ttest:=eval(ht_M(0,-(ele),0,0));\n",
    "#tau_e:=<<0,0,0,0,-mg,0>>;\n",
    "#p:=v_2so3(<<Ttest(1,4),Ttest(2,4),Ttest(3,4)>>);\n",
    "#T_adj(Ttest,rt_M(Ttest));\n",
    "#tau_f:=LinearAlgebra[Transpose](T_adj(Ttest)).(tau_e);\n",
    "\n",
    "\n",
    "#representacao de um vetor em so3\n",
    "def v_2so3(v):\n",
    "    p = zeros(3)\n",
    "    p[0,1] = -v[2,0]\n",
    "    p[0,2] = v[1,0]\n",
    "    p[1,2] = -v[0,0]\n",
    "    p[1,0] = v[2,0]\n",
    "    p[2,0] = -v[1,0]\n",
    "    p[2,1] = v[0,0]\n",
    "    return p\n",
    "\n",
    "#representacao adjunta da matriz Transformacao homogenea\n",
    "def T_adj(Thom):\n",
    "    p = v_2so3(Thom[0:3,3])\n",
    "\n",
    "    K = p*rt_M(Thom)\n",
    "    M = zeros(6)\n",
    "\n",
    "    M[0:3,0:3] = Thom[0:3,0:3]\n",
    "    M[3:6,0:6] = Matrix([K[0:3,0:3]]).col_insert(3,Thom[0:3,0:3]) \n",
    "\n",
    "    return M\n",
    "\n",
    "#Inversa da matriz homogênea\n",
    "def inv_Thom(Thom):\n",
    "    Ka = (rt_M(Thom)).T\n",
    "    Ke = -Ka*Thom[0:3,3] \n",
    "\n",
    "    M = Ka[0:3,0:3]\n",
    "    M = M.col_insert(3,Ke[0:3,0])\n",
    "\n",
    "    M = M.row_insert(4, Matrix([0,0,0,1]).T)\n",
    "    return M"
   ]
  },
  {
   "cell_type": "code",
   "execution_count": 128,
   "metadata": {},
   "outputs": [
    {
     "data": {
      "text/latex": [
       "$\\displaystyle \\left[\\begin{matrix}0 & 0 & 0 & 1 & 0 & 0\\\\0 & 0 & 0 & 0 & 1 & 0\\\\0 & 0 & 0 & 0 & 0 & 1\\\\1 & 0 & 0 & 0 & 0 & 0\\\\0 & 1 & 0 & 0 & 0 & 0\\\\0 & 0 & 1 & 0 & 0 & 0\\end{matrix}\\right]$"
      ],
      "text/plain": [
       "Matrix([\n",
       "[0, 0, 0, 1, 0, 0],\n",
       "[0, 0, 0, 0, 1, 0],\n",
       "[0, 0, 0, 0, 0, 1],\n",
       "[1, 0, 0, 0, 0, 0],\n",
       "[0, 1, 0, 0, 0, 0],\n",
       "[0, 0, 1, 0, 0, 0]])"
      ]
     },
     "execution_count": 128,
     "metadata": {},
     "output_type": "execute_result"
    }
   ],
   "source": [
    "#Calcula-se a matrix inversa (T_0_4) da matriz transformacao homogenea T_04 \n",
    "T40 =inv_Thom(T04)\n",
    "\n",
    "#eval(T_4_[0],{theta[2](t)=0,theta[1](t)=0,theta[4](t)=0});\n",
    "\n",
    "#Passa-se o vetor 3x1 p da entao matriz inversa para s03\n",
    "p=v_2so3(T40[0:3,3])\n",
    "\n",
    "#Finalmente calcula-se a matrix adjunta de T_4_0\n",
    "MAdjT40 = T_adj(T40)\n",
    "#T40\n",
    "#p\n",
    "#MAdjT40\n",
    "#eval(AdjT_4_0,{theta[2](t)=0,theta[1](t)=0,theta[4](t)=0});\n",
    "\n",
    "#LinearAlgebra[Transpose](eval(AdjT_4_0,{theta[2](t)=0,theta[1](t)=0,theta[4](t)=0})).<<0,0,tau[z],f[x],f[y],0>> := LinearAlgebra[Transpose](eval(AdjT_4_0,{theta[2](t)=0,theta[1](t)=0,theta[4](t)=0})).<<0,0,tau[z],f[x],f[y],0>> ;\n",
    "\n",
    "#Constroi-se uma matrix capaz de colocar os elementos momentos nas ultimas 3 posicoes do vetor 6x1 e colocar as forcas nas 3 primeiras posicoes do vetor\n",
    "MF_M = zeros(6)\n",
    "MF_M[0,3] =1\n",
    "MF_M[1,4] =1\n",
    "MF_M[2,5] =1\n",
    "MF_M[3,0] =1\n",
    "MF_M[4,1] =1\n",
    "MF_M[5,2] =1\n"
   ]
  },
  {
   "cell_type": "code",
   "execution_count": 145,
   "metadata": {},
   "outputs": [
    {
     "data": {
      "text/latex": [
       "$\\displaystyle \\left[\\begin{matrix}\\left(f_{x} \\operatorname{sin}\\left(\\theta_{4}\\right) + f_{y} \\operatorname{cos}\\left(\\theta_{4}\\right)\\right) l_{2} \\operatorname{cos}\\left(\\theta_{2}\\right)\\\\\\left(- f_{x} \\operatorname{cos}\\left(\\theta_{4}\\right) + f_{y} \\operatorname{sin}\\left(\\theta_{4}\\right)\\right) l_{2} \\operatorname{cos}\\left(\\theta_{2}\\right)\\\\0\\\\\\tau_{z}\\end{matrix}\\right]$"
      ],
      "text/plain": [
       "Matrix([\n",
       "[ (f_x*sin(theta4) + f_y*cos(theta4))*l2*cos(theta2)],\n",
       "[(-f_x*cos(theta4) + f_y*sin(theta4))*l2*cos(theta2)],\n",
       "[                                                  0],\n",
       "[                                              tau_z]])"
      ]
     },
     "execution_count": 145,
     "metadata": {},
     "output_type": "execute_result"
    }
   ],
   "source": [
    "#Perceba que inicialmente o vetor tau_e é da maneira <<momentos, forcas>>\n",
    "# Alem disso para o nosso aplicacao taux=tauy=fz=0\n",
    "tau_e = Matrix([0,0,tauz,fx,fy,0])\n",
    "\n",
    "#Aqui mostra-se como os esforcos em P sao traduzidos no referencial 0\n",
    "#eval(MF_M.simplify(LinearAlgebra[Transpose](AdjT_4_0).(tau_e),eqtrig6),{theta[2](t)=0,theta[1](t)=0,theta[4](t)=0}):\n",
    "PJ4 = trigsimp(ch_M(rt_M(T40))*JcP4);\n",
    "\n",
    "#aux:=MF_M.simplify(LinearAlgebra[Transpose](AdjT_4_0).(tau_e),eqtrig6):\n",
    "\n",
    "#LinearAlgebra[Transpose](J_cP[4]);\n",
    "\n",
    "#Calcula-se Gamma_e\n",
    "#Gamma_e:=LinearAlgebra[Transpose](J_cP[4]).MF_M.simplify(LinearAlgebra[Transpose](AdjT_4_0).(tau_e),eqtrig6):\n",
    "\n",
    "Gamma_e = PJ4.T*MF_M*(tau_e)\n",
    "\n",
    "#Nosso caso queremos Gamma_b\n",
    "Gamma_b = Gamma_e\n",
    "\n",
    "Gamma_b = trigsimp(Gamma_b)\n",
    "Gamma_b\n",
    "#Visualização dos esforços em cada junta na posicao neutra \n",
    "#MF_M.<<0,0,tau[z],f[x],f[y],0>>;\n",
    "#eval(MF_M.simplify(LinearAlgebra[Transpose](AdjT_4_0).(tau_e),eqtrig6),{theta[2](t)=0,theta[1](t)=0,theta[4](t)=0});\n",
    "#eval(Gamma_b,{theta[2](t)=0,theta[1](t)=0,theta[4](t)=0});\n"
   ]
  },
  {
   "cell_type": "code",
   "execution_count": 148,
   "metadata": {},
   "outputs": [
    {
     "data": {
      "text/latex": [
       "$\\displaystyle \\left[\\begin{matrix}\\ddot{\\theta}_{1}\\\\\\ddot{\\theta}_{2}\\\\\\ddot{\\theta}_{3}\\\\\\ddot{\\theta}_{4}\\end{matrix}\\right]$"
      ],
      "text/plain": [
       "Matrix([\n",
       "[theta1''],\n",
       "[theta2''],\n",
       "[theta3''],\n",
       "[theta4'']])"
      ]
     },
     "execution_count": 148,
     "metadata": {},
     "output_type": "execute_result"
    }
   ],
   "source": [
    "q=Matrix([theta1,theta2,theta3,theta4])\n",
    "q_dot= diff(q,t)\n",
    "q_ddot= diff(q_dot,t)"
   ]
  },
  {
   "cell_type": "code",
   "execution_count": null,
   "metadata": {},
   "outputs": [],
   "source": []
  }
 ],
 "metadata": {
  "kernelspec": {
   "display_name": "Python 3",
   "language": "python",
   "name": "python3"
  },
  "language_info": {
   "codemirror_mode": {
    "name": "ipython",
    "version": 3
   },
   "file_extension": ".py",
   "mimetype": "text/x-python",
   "name": "python",
   "nbconvert_exporter": "python",
   "pygments_lexer": "ipython3",
   "version": "3.7.4"
  }
 },
 "nbformat": 4,
 "nbformat_minor": 4
}
